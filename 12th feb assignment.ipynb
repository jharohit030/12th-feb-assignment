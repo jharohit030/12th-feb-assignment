{
 "cells": [
  {
   "cell_type": "code",
   "execution_count": null,
   "id": "41d510cc-34cf-43c3-9ddc-d443cd3a270b",
   "metadata": {},
   "outputs": [],
   "source": [
    "#Question 1:\n",
    "\n",
    "Exception:\n",
    "When in the runtime an error that occurs after passing the syntax test is called exception or logical type. \n",
    "For example, when we divide any number by zero then the ZeroDivisionError exception is raised, or when we import a module that does not exist then ImportError is raised\n",
    "\n",
    "marks = 10000\n",
    "  \n",
    "# perform division with 0\n",
    "a = marks / 0\n",
    "print(a)\n",
    "\n",
    "Difference between exception and syntax error:\n",
    "    \n",
    " An error is an issue in a program that prevents the program from completing its task.\n",
    " In comparison, an exception is a condition that interrupts the normal flow of the program.\n"
   ]
  },
  {
   "cell_type": "code",
   "execution_count": 1,
   "id": "db4df2b9-51b9-453e-84eb-71030abbab0c",
   "metadata": {},
   "outputs": [
    {
     "name": "stdout",
     "output_type": "stream",
     "text": [
      "Error: cannot add an int and a str\n"
     ]
    }
   ],
   "source": [
    "# Question 2:\n",
    "\n",
    "when any program is syntax based correct but eventually give the error due to any particular\n",
    "reason or may be anything like when we divide anything by 0 it give zero division error \n",
    "we use exception handling in this scenario. if we are not handled the exception our program might be run\n",
    "and this is very risky when we are working in the big projects.\n",
    "\n",
    "Example:\n",
    "    \n",
    "x = 5\n",
    "y = \"hello\"\n",
    "try:\n",
    "    z = x + y\n",
    "except TypeError:\n",
    "    print(\"Error: cannot add an int and a str\")"
   ]
  },
  {
   "cell_type": "code",
   "execution_count": 5,
   "id": "3ada9cff-658f-4c5f-916e-d9f635009c16",
   "metadata": {},
   "outputs": [
    {
     "name": "stdout",
     "output_type": "stream",
     "text": [
      "second element = 2\n",
      "an error occured\n"
     ]
    }
   ],
   "source": [
    "#Question 3:\n",
    "\n",
    "Try and except statements are used to catch and handle exceptions in Python.\n",
    "Statements that can raise exceptions are kept inside the try clause and the statements that handle the exception are written inside except clause.\n",
    "\n",
    "example:\n",
    "    \n",
    "a = [1,2,3]\n",
    "try:\n",
    "    print('second element = %d' %(a[1]))\n",
    "    #throws error since they are only 3 elements in array\n",
    "    print('fourth element = %d' %(a[3]))\n",
    "    \n",
    "except:\n",
    "    print(\"an error occured\")"
   ]
  },
  {
   "cell_type": "code",
   "execution_count": 7,
   "id": "810e465b-a99b-4691-8d37-55ad75d653d6",
   "metadata": {},
   "outputs": [
    {
     "name": "stdout",
     "output_type": "stream",
     "text": [
      "-5.0\n",
      "a/b result in 0\n"
     ]
    }
   ],
   "source": [
    "#Question 4:\n",
    "\n",
    "1. Try with Else Clause:\n",
    "  \n",
    "In Python, we can also use the else clause on the try-except block which must be present after all the except clauses. The code enters the else block only if the try clause does not raise an exception.\n",
    "\n",
    "example:\n",
    "def num(a, b):\n",
    "    try:\n",
    "        c = ((a+b) / (a-b))\n",
    "    except ZeroDivisionError:\n",
    "        print('a/b result in 0')\n",
    "    else:\n",
    "        print(c)\n",
    "        \n",
    "num(2.0, 3.0)\n",
    "num(3.0, 3.0)"
   ]
  },
  {
   "cell_type": "code",
   "execution_count": 8,
   "id": "8ca6cee0-2651-4a44-af4f-bbd3d34bef3f",
   "metadata": {},
   "outputs": [
    {
     "name": "stdout",
     "output_type": "stream",
     "text": [
      "Cannot divide by zero\n",
      "this is always executed\n"
     ]
    }
   ],
   "source": [
    "2. finally:\n",
    "    \n",
    "    Python provides a keyword finally, which is always executed after the try and except blocks. The final block always executes after the normal termination of the try block or after the try block terminates due to some exception.\n",
    "    \n",
    "example\n",
    "\n",
    "try:\n",
    "    k = 5//0\n",
    "    print(k)\n",
    "except ZeroDivisionError:\n",
    "    print('Cannot divide by zero')\n",
    "finally:\n",
    "    print(\"this is always executed\")\n",
    "    "
   ]
  },
  {
   "cell_type": "code",
   "execution_count": 10,
   "id": "ec896c39-f874-4180-96cb-bae74bc37eb8",
   "metadata": {},
   "outputs": [
    {
     "ename": "TypeError",
     "evalue": "only integer are allowed",
     "output_type": "error",
     "traceback": [
      "\u001b[0;31m---------------------------------------------------------------------------\u001b[0m",
      "\u001b[0;31mTypeError\u001b[0m                                 Traceback (most recent call last)",
      "Cell \u001b[0;32mIn[10], line 10\u001b[0m\n\u001b[1;32m      8\u001b[0m x \u001b[38;5;241m=\u001b[39m \u001b[38;5;124m'\u001b[39m\u001b[38;5;124mhello\u001b[39m\u001b[38;5;124m'\u001b[39m\n\u001b[1;32m      9\u001b[0m \u001b[38;5;28;01mif\u001b[39;00m \u001b[38;5;129;01mnot\u001b[39;00m \u001b[38;5;28mtype\u001b[39m(x) \u001b[38;5;129;01mis\u001b[39;00m \u001b[38;5;28mint\u001b[39m:\n\u001b[0;32m---> 10\u001b[0m     \u001b[38;5;28;01mraise\u001b[39;00m \u001b[38;5;167;01mTypeError\u001b[39;00m(\u001b[38;5;124m\"\u001b[39m\u001b[38;5;124monly integer are allowed\u001b[39m\u001b[38;5;124m\"\u001b[39m)\n",
      "\u001b[0;31mTypeError\u001b[0m: only integer are allowed"
     ]
    }
   ],
   "source": [
    "3. raise:\n",
    "    \n",
    "    The raise statement allows the programmer to force a specific exception to occur. The sole argument in raise indicates the exception to be raised. This must be either an exception instance or an exception class (a class that derives from Exception).\n",
    "\n",
    "example:\n",
    "\n",
    "\n",
    "x = 'hello'\n",
    "if not type(x) is int:\n",
    "    raise TypeError(\"only integer are allowed\")\n"
   ]
  },
  {
   "cell_type": "code",
   "execution_count": 11,
   "id": "302160ec-4901-402b-a994-a31e1911e361",
   "metadata": {},
   "outputs": [
    {
     "name": "stdout",
     "output_type": "stream",
     "text": [
      "A New Exception occured:  6\n"
     ]
    }
   ],
   "source": [
    "#Question 5:\n",
    "\n",
    "Exceptions need to be derived from the Exception class, either directly or indirectly. Although not mandatory, most of the exceptions are named as names that end in “Error” similar to the naming of the standard exceptions in python\n",
    "\n",
    "Having custom exceptions - tailored to your specific use cases and that you can raise and catch in specific circumstances - can make your code much more readable and robust, and reduce the amount of code you write later to try and figure out what exactly went wrong.\n",
    "\n",
    "class MyError(Exception):\n",
    "    \n",
    "    def __init__(self, value):\n",
    "        self.value = value\n",
    "        \n",
    "    def __str__(self):\n",
    "        return(repr(self.value))\n",
    "    \n",
    "try:\n",
    "    raise(MyError(3*2))\n",
    "except MyError as error:\n",
    "    print(\"A New Exception occured: \", error.value)\n",
    "    "
   ]
  },
  {
   "cell_type": "code",
   "execution_count": 12,
   "id": "4a05854b-6ce3-4c03-97b0-a57b8685a13c",
   "metadata": {},
   "outputs": [],
   "source": [
    "#Question 6:\n",
    "\n",
    "class custom_exception(Exception):\n",
    "    \n",
    "    def __init__(self, msg):\n",
    "        self.msg = msg\n",
    "        \n",
    "    "
   ]
  },
  {
   "cell_type": "code",
   "execution_count": 15,
   "id": "334ae40a-04cc-4e93-b14b-952c782c5bef",
   "metadata": {},
   "outputs": [],
   "source": [
    "def check(temp):\n",
    "    \n",
    "    if temp < 10 :\n",
    "        raise custom_exception(\"This weather is not so cold\")\n",
    "    elif temp >20:\n",
    "        raise custom_exception(\"This weather is hot\")\n",
    "    elif temp < 0:\n",
    "        raise custom_exception(\"This weather is so cold\")\n",
    "    else:\n",
    "        print(\"Weather is sunny\")"
   ]
  },
  {
   "cell_type": "code",
   "execution_count": 16,
   "id": "e454cc8f-0083-4c90-92e8-7f6accfb909f",
   "metadata": {},
   "outputs": [
    {
     "name": "stdin",
     "output_type": "stream",
     "text": [
      "Enter the temperature:  -5\n"
     ]
    },
    {
     "name": "stdout",
     "output_type": "stream",
     "text": [
      "This weather is not so cold\n"
     ]
    }
   ],
   "source": [
    "try:\n",
    "    temp = float(input(\"Enter the temperature: \"))\n",
    "    check(temp)\n",
    "except custom_exception as c:\n",
    "    print(c)"
   ]
  },
  {
   "cell_type": "code",
   "execution_count": null,
   "id": "60db9e55-b9e8-4931-aebf-44e332eb049c",
   "metadata": {},
   "outputs": [],
   "source": []
  }
 ],
 "metadata": {
  "kernelspec": {
   "display_name": "Python 3 (ipykernel)",
   "language": "python",
   "name": "python3"
  },
  "language_info": {
   "codemirror_mode": {
    "name": "ipython",
    "version": 3
   },
   "file_extension": ".py",
   "mimetype": "text/x-python",
   "name": "python",
   "nbconvert_exporter": "python",
   "pygments_lexer": "ipython3",
   "version": "3.10.8"
  }
 },
 "nbformat": 4,
 "nbformat_minor": 5
}
